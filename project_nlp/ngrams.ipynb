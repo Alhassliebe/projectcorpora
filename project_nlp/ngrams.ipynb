{
 "cells": [
  {
   "cell_type": "code",
   "execution_count": 1,
   "metadata": {},
   "outputs": [],
   "source": [
    "import sqlite3\n",
    "import pandas as pd"
   ]
  },
  {
   "cell_type": "code",
   "execution_count": 2,
   "metadata": {},
   "outputs": [],
   "source": [
    "con = sqlite3.connect('anecdote.db')  # подключение\n",
    "cur = con.cursor()  # курсор"
   ]
  },
  {
   "cell_type": "code",
   "execution_count": 3,
   "metadata": {},
   "outputs": [],
   "source": [
    "trigram_query = \"\"\"\n",
    "SELECT t1.text_id AS text_id, t1.sent_id AS sent_id, t1.word AS word1, t1.lemma AS lemma1, t1.pos AS pos1, t2.word AS word2, t2.lemma AS lemma2, t2.pos AS pos2, t3.word AS word3, t3.lemma AS lemma3, t3.pos AS pos3\n",
    "\n",
    "FROM words AS t1\n",
    "JOIN words AS t2 ON t2.word_id = t1.word_id + 1 AND t2.sent_id = t1.sent_id AND t2.text_id = t1.text_id\n",
    "JOIN words AS t3 ON t3.word_id = t1.word_id + 2 AND t3.sent_id = t1.sent_id AND t3.text_id = t1.text_id\n",
    "\"\"\""
   ]
  },
  {
   "cell_type": "code",
   "execution_count": null,
   "metadata": {},
   "outputs": [],
   "source": [
    "cur.execute(\"\"\"\n",
    "CREATE TABLE trigrams (\n",
    "    text_id INT, \n",
    "    sent_id INT,\n",
    "    word1 TEXT,\n",
    "    lemma1 TEXT,\n",
    "    pos1 TEXT,\n",
    "    word2 TEXT,\n",
    "    lemma2 TEXT,\n",
    "    pos2 TEXT,\n",
    "    word3 TEXT,\n",
    "    lemma3 TEXT,\n",
    "    pos3 TEXT\n",
    ")\n",
    "\"\"\")\n",
    "con.commit()"
   ]
  },
  {
   "cell_type": "code",
   "execution_count": 6,
   "metadata": {},
   "outputs": [],
   "source": [
    "cur.execute(trigram_query)\n",
    "data = cur.fetchall()\n",
    "cur.executemany(\"INSERT INTO trigrams VALUES (?, ?, ?, ?, ?, ?, ?, ?, ?, ?, ?)\", data)\n",
    "con.commit()"
   ]
  },
  {
   "cell_type": "code",
   "execution_count": 8,
   "metadata": {},
   "outputs": [],
   "source": [
    "bigram_query = \"\"\"\n",
    "    SELECT t1.text_id AS text_id, t1.sent_id AS sent_id, t1.word AS word1, t1.lemma AS lemma1, t1.pos AS pos1, t2.word AS word2, t2.lemma AS lemma2, t2.pos AS pos2\n",
    "    FROM words AS t1\n",
    "    JOIN words AS t2 ON t2.word_id = t1.word_id + 1 AND t2.sent_id = t1.sent_id AND t2.text_id = t1.text_id\n",
    "\"\"\""
   ]
  },
  {
   "cell_type": "code",
   "execution_count": 7,
   "metadata": {},
   "outputs": [],
   "source": [
    "cur.execute(\"\"\"\n",
    "CREATE TABLE bigrams (\n",
    "    text_id INT, \n",
    "    sent_id INT,\n",
    "    word1 TEXT,\n",
    "    lemma1 TEXT,\n",
    "    pos1 TEXT,\n",
    "    word2 TEXT,\n",
    "    lemma2 TEXT,\n",
    "    pos2 TEXT\n",
    ")\n",
    "\"\"\")\n",
    "con.commit()"
   ]
  },
  {
   "cell_type": "code",
   "execution_count": 10,
   "metadata": {},
   "outputs": [],
   "source": [
    "cur.execute(bigram_query)\n",
    "data_2 = cur.fetchall()\n",
    "cur.executemany(\"INSERT INTO bigrams VALUES (?, ?, ?, ?, ?, ?, ?, ?)\", data_2)\n",
    "con.commit()"
   ]
  }
 ],
 "metadata": {
  "kernelspec": {
   "display_name": "Python 3",
   "language": "python",
   "name": "python3"
  },
  "language_info": {
   "codemirror_mode": {
    "name": "ipython",
    "version": 3
   },
   "file_extension": ".py",
   "mimetype": "text/x-python",
   "name": "python",
   "nbconvert_exporter": "python",
   "pygments_lexer": "ipython3",
   "version": "3.9.7"
  }
 },
 "nbformat": 4,
 "nbformat_minor": 2
}
